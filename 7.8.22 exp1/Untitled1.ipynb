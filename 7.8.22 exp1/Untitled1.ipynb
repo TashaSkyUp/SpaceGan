{
 "cells": [
  {
   "cell_type": "code",
   "execution_count": null,
   "id": "d083deea-9fc6-47c2-b2bf-a6c145190bae",
   "metadata": {},
   "outputs": [],
   "source": [
    "dirty = 1\n",
    "def test():    \n",
    "    try:test.test2=test.test2;except AttributeError:test.test2=0;\n",
    "test()\n",
    "print(test.test2)\n",
    "test.test2 = 1\n",
    "test()\n",
    "print(test.test2)"
   ]
  },
  {
   "cell_type": "code",
   "execution_count": 15,
   "id": "420b2361-e072-4d2d-a68e-12916ca7942e",
   "metadata": {},
   "outputs": [
    {
     "data": {
      "text/plain": [
       "['__annotations__',\n",
       " '__call__',\n",
       " '__class__',\n",
       " '__closure__',\n",
       " '__code__',\n",
       " '__defaults__',\n",
       " '__delattr__',\n",
       " '__dict__',\n",
       " '__dir__',\n",
       " '__doc__',\n",
       " '__eq__',\n",
       " '__format__',\n",
       " '__ge__',\n",
       " '__get__',\n",
       " '__getattribute__',\n",
       " '__globals__',\n",
       " '__gt__',\n",
       " '__hash__',\n",
       " '__init__',\n",
       " '__init_subclass__',\n",
       " '__kwdefaults__',\n",
       " '__le__',\n",
       " '__lt__',\n",
       " '__module__',\n",
       " '__name__',\n",
       " '__ne__',\n",
       " '__new__',\n",
       " '__qualname__',\n",
       " '__reduce__',\n",
       " '__reduce_ex__',\n",
       " '__repr__',\n",
       " '__setattr__',\n",
       " '__sizeof__',\n",
       " '__str__',\n",
       " '__subclasshook__',\n",
       " 'test2']"
      ]
     },
     "execution_count": 15,
     "metadata": {},
     "output_type": "execute_result"
    }
   ],
   "source": [
    "dir(test)"
   ]
  },
  {
   "cell_type": "code",
   "execution_count": 34,
   "id": "4aa07ed8-7ded-4f08-9b4b-ef60b0d7a47c",
   "metadata": {},
   "outputs": [
    {
     "name": "stdout",
     "output_type": "stream",
     "text": [
      "here\n",
      "here\n",
      "['__annotations__', '__call__', '__class__', '__closure__', '__code__', '__defaults__', '__delattr__', '__dict__', '__dir__', '__doc__', '__eq__', '__format__', '__ge__', '__get__', '__getattribute__', '__globals__', '__gt__', '__hash__', '__init__', '__init_subclass__', '__kwdefaults__', '__le__', '__lt__', '__module__', '__name__', '__ne__', '__new__', '__qualname__', '__reduce__', '__reduce_ex__', '__repr__', '__setattr__', '__sizeof__', '__str__', '__subclasshook__', 'data']\n",
      "test2\n",
      "['func']\n"
     ]
    },
    {
     "ename": "NameError",
     "evalue": "name 'self' is not defined",
     "output_type": "error",
     "traceback": [
      "\u001b[0;31m---------------------------------------------------------------------------\u001b[0m",
      "\u001b[0;31mNameError\u001b[0m                                 Traceback (most recent call last)",
      "Input \u001b[0;32mIn [34]\u001b[0m, in \u001b[0;36m<module>\u001b[0;34m\u001b[0m\n\u001b[1;32m     14\u001b[0m test2()\n\u001b[1;32m     15\u001b[0m test2()\n\u001b[0;32m---> 17\u001b[0m \u001b[43mstatic_local\u001b[49m\u001b[43m(\u001b[49m\u001b[43mtest2\u001b[49m\u001b[43m)\u001b[49m\n\u001b[1;32m     18\u001b[0m \u001b[38;5;28;01mdel\u001b[39;00m test2\n",
      "Input \u001b[0;32mIn [34]\u001b[0m, in \u001b[0;36mstatic_local\u001b[0;34m(func)\u001b[0m\n\u001b[1;32m      3\u001b[0m \u001b[38;5;28mprint\u001b[39m(func\u001b[38;5;241m.\u001b[39m\u001b[38;5;18m__name__\u001b[39m)\n\u001b[1;32m      4\u001b[0m \u001b[38;5;28mprint\u001b[39m(\u001b[38;5;28mdir\u001b[39m())\n\u001b[0;32m----> 5\u001b[0m \u001b[38;5;28mprint\u001b[39m(\u001b[38;5;28;43mself\u001b[39;49m)\n",
      "\u001b[0;31mNameError\u001b[0m: name 'self' is not defined"
     ]
    }
   ],
   "source": [
    "def static_local(func):\n",
    "    print(dir(func))\n",
    "    print(func.__name__)\n",
    "    print(dir())\n",
    "    print(self)\n",
    "    \n",
    "def test2():\n",
    "    if 'data' in dir(test2):\n",
    "        print(\"here\")\n",
    "    else:\n",
    "        test2.data = 0\n",
    "        print(\"defined, now try again\")\n",
    "test2.data = 1\n",
    "test2()\n",
    "test2()\n",
    "\n",
    "static_local(test2)\n",
    "del test2\n"
   ]
  },
  {
   "cell_type": "code",
   "execution_count": null,
   "id": "021fdcd6-7d9e-447f-abce-08789b02cf3d",
   "metadata": {},
   "outputs": [],
   "source": []
  }
 ],
 "metadata": {
  "kernelspec": {
   "display_name": "Python 3 (ipykernel)",
   "language": "python",
   "name": "python3"
  },
  "language_info": {
   "codemirror_mode": {
    "name": "ipython",
    "version": 3
   },
   "file_extension": ".py",
   "mimetype": "text/x-python",
   "name": "python",
   "nbconvert_exporter": "python",
   "pygments_lexer": "ipython3",
   "version": "3.9.7"
  }
 },
 "nbformat": 4,
 "nbformat_minor": 5
}
