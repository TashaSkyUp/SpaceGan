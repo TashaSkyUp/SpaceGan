{
 "cells": [
  {
   "cell_type": "code",
   "execution_count": null,
   "outputs": [],
   "source": [
    "import glob\n",
    "image_path = \"./images/\"\n",
    "#get the first file in the image_path and its modified dateimport glob\n",
    "import os\n",
    "import time\n",
    "os.chdir(\"/home/jovyan/work/data/nasa_planet_gan/first_movie\")\n",
    "\n",
    "# Get list of all files only in the given directory\n",
    "list_of_files = filter( os.path.isfile,\n",
    "                        glob.glob(image_path + '*') )\n",
    "\n",
    "# Sort list of files based on last modification time in ascending order\n",
    "list_of_files = sorted( list_of_files,\n",
    "                        key = os.path.getmtime)\n",
    "\n",
    "# Iterate over sorted list of files and print file path\n",
    "# along with last modification time of file\n",
    "print(list_of_files)"
   ],
   "metadata": {
    "collapsed": false,
    "pycharm": {
     "name": "#%%\n"
    }
   }
  },
  {
   "cell_type": "code",
   "execution_count": 14,
   "outputs": [],
   "source": [
    "\n",
    "filenames=[]\n",
    "for file_path in list_of_files:\n",
    "    filenames.append(file_path)\n"
   ],
   "metadata": {
    "collapsed": false,
    "pycharm": {
     "name": "#%%\n"
    }
   }
  },
  {
   "cell_type": "code",
   "execution_count": 15,
   "outputs": [],
   "source": [
    "import imageio\n",
    "anim_file = 'movie.gif'\n",
    "\n",
    "with imageio.get_writer(anim_file, mode='I') as writer:\n",
    "  for filename in filenames:\n",
    "    image = imageio.imread(filename)\n",
    "    writer.append_data(image)\n",
    "  image = imageio.imread(filename)\n",
    "  writer.append_data(image)\n",
    "\n",
    "import tensorflow_docs.vis.embed as embed\n",
    "embed.embed_file(anim_file)"
   ],
   "metadata": {
    "collapsed": false,
    "pycharm": {
     "name": "#%%\n"
    }
   }
  },
  {
   "cell_type": "code",
   "execution_count": null,
   "outputs": [],
   "source": [],
   "metadata": {
    "collapsed": false,
    "pycharm": {
     "name": "#%%\n"
    }
   }
  }
 ],
 "metadata": {
  "kernelspec": {
   "display_name": "Python 3",
   "language": "python",
   "name": "python3"
  },
  "language_info": {
   "codemirror_mode": {
    "name": "ipython",
    "version": 2
   },
   "file_extension": ".py",
   "mimetype": "text/x-python",
   "name": "python",
   "nbconvert_exporter": "python",
   "pygments_lexer": "ipython2",
   "version": "2.7.6"
  }
 },
 "nbformat": 4,
 "nbformat_minor": 0
}