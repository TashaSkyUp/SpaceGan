{
 "cells": [
  {
   "cell_type": "code",
   "execution_count": 1,
   "metadata": {
    "collapsed": false,
    "jupyter": {
     "outputs_hidden": false
    },
    "pycharm": {
     "name": "#%%\n"
    }
   },
   "outputs": [],
   "source": [
    "import os\n",
    "\n",
    "import keras\n",
    "import numpy as np\n",
    "\n",
    "os.environ['CUDA_VISIBLE_DEVICES'] = '-1'\n",
    "import tensorflow as tf\n",
    "\n",
    "from PIL import Image\n",
    "import matplotlib.pyplot as plt\n",
    "\n"
   ]
  },
  {
   "cell_type": "code",
   "execution_count": 2,
   "metadata": {
    "collapsed": false,
    "jupyter": {
     "outputs_hidden": false
    },
    "pycharm": {
     "name": "#%%\n"
    }
   },
   "outputs": [
    {
     "name": "stdout",
     "output_type": "stream",
     "text": [
      "No GPU found\n"
     ]
    },
    {
     "name": "stderr",
     "output_type": "stream",
     "text": [
      "2022-07-03 06:55:58.500893: I tensorflow/core/platform/cpu_feature_guard.cc:142] This TensorFlow binary is optimized with oneAPI Deep Neural Network Library (oneDNN) to use the following CPU instructions in performance-critical operations:  AVX2 FMA\n",
      "To enable them in other operations, rebuild TensorFlow with the appropriate compiler flags.\n",
      "2022-07-03 06:55:58.520828: E tensorflow/stream_executor/cuda/cuda_driver.cc:271] failed call to cuInit: CUDA_ERROR_NO_DEVICE: no CUDA-capable device is detected\n",
      "2022-07-03 06:55:58.520877: I tensorflow/stream_executor/cuda/cuda_diagnostics.cc:156] kernel driver does not appear to be running on this host (175810b935cb): /proc/driver/nvidia/version does not exist\n"
     ]
    }
   ],
   "source": [
    "if tf.test.gpu_device_name():\n",
    "    print('GPU found')\n",
    "else:\n",
    "    print(\"No GPU found\")"
   ]
  },
  {
   "cell_type": "code",
   "execution_count": 3,
   "metadata": {
    "collapsed": false,
    "jupyter": {
     "outputs_hidden": false
    },
    "pycharm": {
     "name": "#%%\n"
    }
   },
   "outputs": [
    {
     "name": "stdout",
     "output_type": "stream",
     "text": [
      "(1, 5, 9, 3) float64 0.999861039755275 9.763738104795472e-06\n"
     ]
    },
    {
     "data": {
      "image/png": "[encoded data removed]",
      "text/plain": [
       "<Figure size 432x288 with 1 Axes>"
      ]
     },
     "metadata": {},
     "output_type": "display_data"
    },
    {
     "data": {
      "image/png": "[encoded data removed]",
      "text/plain": [
       "<PIL.Image.Image image mode=RGB size=90x50 at 0x7F103CE62700>"
      ]
     },
     "metadata": {},
     "output_type": "display_data"
    }
   ],
   "source": [
    "shape = (1,5,9,3)\n",
    "dummy = np.random.random(shape)\n",
    "#dummy = np.ones(shape).astype(np.float32)\n",
    "\n",
    "if 0:\n",
    "    dummy[0,0,0,:] = [1,0,0]\n",
    "    dummy[0,0,1,:] = [0,1,0]\n",
    "    dummy[0,0,2,:] = [0,0,1]\n",
    "\n",
    "    dummy[0,1,0,:] = [.5,0.,0.]\n",
    "    dummy[0,1,1,:] = [0.,.5,0.]\n",
    "    dummy[0,1,2,:] = [0.,0.,.5]\n",
    "    dummy[0,1,3,:] = [0.,0.,0]\n",
    "\n",
    "    dummy[0,2,0,:] = [.01,.01,.01]\n",
    "    dummy[0,2,1,:] = [.1,.1,.1]\n",
    "    dummy[0,2,2,:] = [.2,.2,.2]\n",
    "    dummy[0,2,3,:] = [.5,.5,.5]\n",
    "\n",
    "    dummy[0,3,0,:] = [1,1,0]\n",
    "    dummy[0,3,1,:] = [0,1,1]\n",
    "    dummy[0,3,2,:] = [1,0,1]\n",
    "    dummy[0,3,3,:] = [.5,.5,.5]\n",
    "\n",
    "\n",
    "print(dummy.shape,dummy.dtype,dummy.max(),dummy.min())\n",
    "\n",
    "plt.hist(dummy[:,:,1].flatten(), bins=256,  fc='k', ec='k')\n",
    "plt.show()\n",
    "\n",
    "image = tf.keras.utils.array_to_img(dummy[0]*255,scale=False,dtype = np.float32,data_format='channels_last')\n",
    "\n",
    "image = image.resize((image.width*10,image.height*10),0)\n",
    "image.show()\n",
    "k_size = (2,2)\n",
    "\n",
    "def get_pass_through_conv(input_shape,k_size,strides=(1,1),padding='valid'):\n",
    "    myconv = tf.keras.layers.Conv2DTranspose(filters=3,\n",
    "                                            kernel_size=k_size,\n",
    "                                            strides=strides,\n",
    "                                            padding=padding)\n",
    "\n",
    "    #return myconv\n",
    "    myconv.build(input_shape)\n",
    "    #myconv(np.ones(input_shape))\n",
    "    #current_w, current_bias = myconv.get_weights()  # see the current weights\n",
    "    #print(f'cws',current_w.shape)\n",
    "\n",
    "    #new_w = tf.constant((np.random.random(current_w.shape)-.5)*2,dtype=tf.float32)\n",
    "    #new_w = tf.constant((np.random.random(current_w.shape)),dtype=tf.float32)\n",
    "    #new_w = tf.constant([[[1.0]*3,[.8]*3],[[.6]*3,[.4]*3]])\n",
    "    #new_w = tf.constant(np.ones(current_w.shape))\n",
    "\n",
    "    #new_w = tf.reshape(new_w, current_w.shape)  # fix the shape\n",
    "    #new_bias = tf.constant(np.ones(current_bias.shape))  # fix the shape\n",
    "    #myconv.set_weights([new_w, new_bias])\n",
    "    return myconv\n",
    "\n",
    "out_im=[]\n",
    "out_np=[]\n",
    "def hist_loss(x,y):\n",
    "    h= tf.histogram_fixed_width(y,nbins=256,value_range=(0,1))\n",
    "    h=tf.cast(h,tf.float32)\n",
    "    d = tf.subtract(h,tf.reduce_mean(h))\n",
    "    d= tf.cumsum(d,axis=0)\n",
    "    d=tf.pow(d,2)\n",
    "    return d\n",
    "def type1():\n",
    "    n = tf.keras.Input(shape=(5,9,3))\n",
    "    m = get_pass_through_conv(input_shape=dummy.shape,k_size=2,strides=1)(n)\n",
    "    m = tf.keras.layers.Activation('tanh')(m)\n",
    "    print (m.shape)\n",
    "\n",
    "    m = get_pass_through_conv(input_shape=dummy.shape,k_size=2,strides=2)(m)\n",
    "    m = tf.keras.layers.Activation('tanh')(m)\n",
    "    print (m.shape)\n",
    "\n",
    "    m = get_pass_through_conv(input_shape=dummy.shape,k_size=2,strides=2)(m)\n",
    "    m = tf.keras.layers.Activation('tanh')(m)\n",
    "    print (m.shape)\n",
    "\n",
    "    m = get_pass_through_conv(input_shape=dummy.shape,k_size=2,strides=2)(m)\n",
    "    m = tf.keras.layers.Activation('tanh')(m)\n",
    "    print (m.shape)\n",
    "\n",
    "    m = get_pass_through_conv(input_shape=dummy.shape,k_size=5,strides=3)(m)\n",
    "    m = tf.keras.layers.Activation('sigmoid')(m)\n",
    "\n",
    "    print (m.shape)\n",
    "\n",
    "\n",
    "    return n,m"
   ]
  },
  {
   "cell_type": "code",
   "execution_count": 4,
   "metadata": {
    "collapsed": false,
    "jupyter": {
     "outputs_hidden": false
    },
    "pycharm": {
     "name": "#%%\n"
    }
   },
   "outputs": [
    {
     "name": "stdout",
     "output_type": "stream",
     "text": [
      "(None, 6, 10, 3)\n",
      "(None, 12, 20, 3)\n",
      "(None, 24, 40, 3)\n",
      "(None, 48, 80, 3)\n",
      "(None, 146, 242, 3)\n",
      "mis: (None, 5, 9, 3)\n",
      "model output shape:  (256,)\n",
      "45133.0\n",
      "0.0\n",
      "414.04688\n",
      "414.046875\n",
      "(100, 256)\n",
      "float64\n"
     ]
    }
   ],
   "source": [
    "\n",
    "n,m = type1()\n",
    "m=tf.keras.layers.Flatten()(m)\n",
    "m=tf.keras.layers.Lambda(lambda x: tf.cast( tf.histogram_fixed_width(x,value_range=(0,1),nbins=256),np.float32))(m)\n",
    "mdl=tf.keras.models.Model(inputs=n,outputs=m)\n",
    "mdl.compile(optimizer='adam',loss='mse')\n",
    "print('mis:',mdl.input_shape)\n",
    "y = mdl(dummy)\n",
    "print('model output shape: ',y.numpy().shape)\n",
    "print(y.numpy().max())\n",
    "print(y.numpy().min())\n",
    "print(y.numpy().mean())\n",
    "print(y.numpy().sum()/256)\n",
    "#plt.hist(y[:,:,2].numpy().flatten(), bins=256,  fc='k', ec='k')\n",
    "\n",
    "#im = tf.keras.preprocessing.image.array_to_img(y[0],scale=True)\n",
    "#X=np.random.random((100,)+y[0].numpy().shape)\n",
    "y=np.ones((100,256))*414.0\n",
    "print(y.shape)\n",
    "print(y.dtype)\n",
    "#im.show()\n",
    "#tf.keras.preprocessing.image.array_to_img(X[0],scale=True).show()"
   ]
  },
  {
   "cell_type": "markdown",
   "metadata": {
    "pycharm": {
     "name": "#%% md\n"
    }
   },
   "source": [
    "\n"
   ]
  },
  {
   "cell_type": "code",
   "execution_count": 11,
   "metadata": {
    "collapsed": false,
    "jupyter": {
     "outputs_hidden": false
    },
    "pycharm": {
     "name": "#%%\n"
    }
   },
   "outputs": [
    {
     "name": "stdout",
     "output_type": "stream",
     "text": [
      "Requirement already satisfied: pydot in /opt/conda/lib/python3.9/site-packages (1.4.2)\n",
      "Requirement already satisfied: pyparsing>=2.1.4 in /opt/conda/lib/python3.9/site-packages (from pydot) (3.0.7)\n",
      "Requirement already satisfied: graphviz in /opt/conda/lib/python3.9/site-packages (0.19.1)\n",
      "('You must install pydot (`pip install pydot`) and install graphviz (see instructions at https://graphviz.gitlab.io/download/) ', 'for plot_model/model_to_dot to work.')\n"
     ]
    },
    {
     "ename": "AttributeError",
     "evalue": "'NoneType' object has no attribute 'create_svg'",
     "output_type": "error",
     "traceback": [
      "\u001b[0;31m---------------------------------------------------------------------------\u001b[0m",
      "\u001b[0;31mAttributeError\u001b[0m                            Traceback (most recent call last)",
      "Input \u001b[0;32mIn [11]\u001b[0m, in \u001b[0;36m<module>\u001b[0;34m\u001b[0m\n\u001b[1;32m      3\u001b[0m \u001b[38;5;28;01mfrom\u001b[39;00m \u001b[38;5;21;01mkeras\u001b[39;00m\u001b[38;5;21;01m.\u001b[39;00m\u001b[38;5;21;01mutils\u001b[39;00m \u001b[38;5;28;01mimport\u001b[39;00m vis_utils\n\u001b[1;32m      4\u001b[0m \u001b[38;5;28;01mfrom\u001b[39;00m \u001b[38;5;21;01mIPython\u001b[39;00m\u001b[38;5;21;01m.\u001b[39;00m\u001b[38;5;21;01mdisplay\u001b[39;00m \u001b[38;5;28;01mimport\u001b[39;00m SVG\n\u001b[0;32m----> 5\u001b[0m SVG(\u001b[43mvis_utils\u001b[49m\u001b[38;5;241;43m.\u001b[39;49m\u001b[43mmodel_to_dot\u001b[49m\u001b[43m(\u001b[49m\u001b[43mmdl\u001b[49m\u001b[43m,\u001b[49m\u001b[43m \u001b[49m\u001b[43mshow_shapes\u001b[49m\u001b[38;5;241;43m=\u001b[39;49m\u001b[38;5;28;43;01mTrue\u001b[39;49;00m\u001b[43m)\u001b[49m\u001b[38;5;241;43m.\u001b[39;49m\u001b[43mcreate_svg\u001b[49m())\n",
      "\u001b[0;31mAttributeError\u001b[0m: 'NoneType' object has no attribute 'create_svg'"
     ]
    }
   ],
   "source": [
    "!pip install pydot\n",
    "!pip install graphviz\n",
    "from keras.utils import vis_utils\n",
    "from IPython.display import SVG\n",
    "SVG(vis_utils.model_to_dot(mdl, show_shapes=True).create_svg())\n",
    "\n"
   ]
  },
  {
   "cell_type": "code",
   "execution_count": null,
   "metadata": {
    "collapsed": false,
    "jupyter": {
     "outputs_hidden": false
    },
    "pycharm": {
     "name": "#%%\n"
    }
   },
   "outputs": [],
   "source": [
    "mdl.fit(np.random.random(size=(100,5,9,3)),y,epochs=1)"
   ]
  },
  {
   "cell_type": "code",
   "execution_count": null,
   "metadata": {
    "collapsed": false,
    "jupyter": {
     "outputs_hidden": false
    },
    "pycharm": {
     "name": "#%%\n"
    }
   },
   "outputs": [],
   "source": [
    "\n"
   ]
  },
  {
   "cell_type": "code",
   "execution_count": null,
   "metadata": {
    "collapsed": false,
    "jupyter": {
     "outputs_hidden": false
    },
    "pycharm": {
     "name": "#%%\n"
    }
   },
   "outputs": [],
   "source": []
  }
 ],
 "metadata": {
  "kernelspec": {
   "display_name": "Python 3 (ipykernel)",
   "language": "python",
   "name": "python3"
  },
  "language_info": {
   "codemirror_mode": {
    "name": "ipython",
    "version": 3
   },
   "file_extension": ".py",
   "mimetype": "text/x-python",
   "name": "python",
   "nbconvert_exporter": "python",
   "pygments_lexer": "ipython3",
   "version": "3.9.7"
  }
 },
 "nbformat": 4,
 "nbformat_minor": 4
}
