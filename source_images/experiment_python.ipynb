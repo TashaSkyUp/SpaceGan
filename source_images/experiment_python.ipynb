{
 "cells": [
  {
   "cell_type": "code",
   "execution_count": 5,
   "metadata": {
    "collapsed": true,
    "pycharm": {
     "name": "#%%\n"
    }
   },
   "outputs": [
    {
     "name": "stdout",
     "output_type": "stream",
     "text": [
      "Requirement already satisfied: perfplot in /opt/conda/lib/python3.9/site-packages (0.10.2)\r\n",
      "Requirement already satisfied: zarr in /opt/conda/lib/python3.9/site-packages (2.12.0)\r\n",
      "Requirement already satisfied: matplotlib in /opt/conda/lib/python3.9/site-packages (from perfplot) (3.5.1)\r\n",
      "Requirement already satisfied: matplotx in /opt/conda/lib/python3.9/site-packages (from perfplot) (0.3.7)\r\n",
      "Requirement already satisfied: rich in /opt/conda/lib/python3.9/site-packages (from perfplot) (12.4.4)\r\n",
      "Requirement already satisfied: numpy in /opt/conda/lib/python3.9/site-packages (from perfplot) (1.23.0)\r\n",
      "Requirement already satisfied: numcodecs>=0.6.4 in /opt/conda/lib/python3.9/site-packages (from zarr) (0.10.0)\r\n",
      "Requirement already satisfied: asciitree in /opt/conda/lib/python3.9/site-packages (from zarr) (0.3.3)\r\n",
      "Requirement already satisfied: fasteners in /opt/conda/lib/python3.9/site-packages (from zarr) (0.17.3)\r\n",
      "Requirement already satisfied: typing-extensions>=3.7.4 in /opt/conda/lib/python3.9/site-packages (from numcodecs>=0.6.4->zarr) (4.0.1)\r\n",
      "Requirement already satisfied: cycler>=0.10 in /opt/conda/lib/python3.9/site-packages (from matplotlib->perfplot) (0.11.0)\r\n",
      "Requirement already satisfied: fonttools>=4.22.0 in /opt/conda/lib/python3.9/site-packages (from matplotlib->perfplot) (4.29.0)\r\n",
      "Requirement already satisfied: pyparsing>=2.2.1 in /opt/conda/lib/python3.9/site-packages (from matplotlib->perfplot) (3.0.7)\r\n",
      "Requirement already satisfied: python-dateutil>=2.7 in /opt/conda/lib/python3.9/site-packages (from matplotlib->perfplot) (2.8.2)\r\n",
      "Requirement already satisfied: pillow>=6.2.0 in /opt/conda/lib/python3.9/site-packages (from matplotlib->perfplot) (8.4.0)\r\n",
      "Requirement already satisfied: kiwisolver>=1.0.1 in /opt/conda/lib/python3.9/site-packages (from matplotlib->perfplot) (1.3.2)\r\n",
      "Requirement already satisfied: packaging>=20.0 in /opt/conda/lib/python3.9/site-packages (from matplotlib->perfplot) (21.3)\r\n",
      "Requirement already satisfied: pygments<3.0.0,>=2.6.0 in /opt/conda/lib/python3.9/site-packages (from rich->perfplot) (2.11.2)\r\n",
      "Requirement already satisfied: commonmark<0.10.0,>=0.9.0 in /opt/conda/lib/python3.9/site-packages (from rich->perfplot) (0.9.1)\r\n",
      "Requirement already satisfied: six>=1.5 in /opt/conda/lib/python3.9/site-packages (from python-dateutil>=2.7->matplotlib->perfplot) (1.15.0)\r\n"
     ]
    }
   ],
   "source": [
    "!pip install perfplot zarr"
   ]
  },
  {
   "cell_type": "code",
   "execution_count": 3,
   "outputs": [],
   "source": [
    "import perfplot\n",
    "import pickle\n",
    "import numpy\n",
    "import h5py\n",
    "import tables\n",
    "import zarr\n",
    "import os\n",
    "os.chdir(\"/home/jovyan/work/data/nasa_planet_gan/\")"
   ],
   "metadata": {
    "collapsed": false,
    "pycharm": {
     "name": "#%%\n"
    }
   }
  },
  {
   "cell_type": "code",
   "execution_count": 4,
   "outputs": [
    {
     "data": {
      "text/plain": "Output()",
      "application/vnd.jupyter.widget-view+json": {
       "version_major": 2,
       "version_minor": 0,
       "model_id": "955b7236912743b08ab297c5b2418388"
      }
     },
     "metadata": {},
     "output_type": "display_data"
    },
    {
     "data": {
      "text/plain": "",
      "text/html": "<pre style=\"white-space:pre;overflow-x:auto;line-height:normal;font-family:Menlo,'DejaVu Sans Mono',consolas,'Courier New',monospace\"></pre>\n"
     },
     "metadata": {},
     "output_type": "display_data"
    },
    {
     "data": {
      "text/plain": "\n",
      "text/html": "<pre style=\"white-space:pre;overflow-x:auto;line-height:normal;font-family:Menlo,'DejaVu Sans Mono',consolas,'Courier New',monospace\">\n</pre>\n"
     },
     "metadata": {},
     "output_type": "display_data"
    }
   ],
   "source": [
    "\n",
    "def npy_write(data):\n",
    "    numpy.save(\"npy.npy\", data)\n",
    "\n",
    "\n",
    "def hdf5_write(data):\n",
    "    f = h5py.File(\"hdf5.h5\", \"w\")\n",
    "    f.create_dataset(\"data\", data=data)\n",
    "\n",
    "\n",
    "def pickle_write(data):\n",
    "    with open(\"test.pkl\", \"wb\") as f:\n",
    "        pickle.dump(data, f)\n",
    "\n",
    "\n",
    "def pytables_write(data):\n",
    "    f = tables.open_file(\"pytables.h5\", mode=\"w\")\n",
    "    gcolumns = f.create_group(f.root, \"columns\", \"data\")\n",
    "    f.create_array(gcolumns, \"data\", data, \"data\")\n",
    "    f.close()\n",
    "\n",
    "\n",
    "def zarr_write(data):\n",
    "    zarr.save(\"out.zarr\", data)\n",
    "\n",
    "\n",
    "perfplot.save(\n",
    "    \"write.png\",\n",
    "    setup=numpy.random.rand,\n",
    "    kernels=[npy_write, hdf5_write, pickle_write, pytables_write, zarr_write],\n",
    "    n_range=[2 ** k for k in range(20)],\n",
    "    xlabel=\"len(data)\",\n",
    "    equality_check=None,\n",
    ")"
   ],
   "metadata": {
    "collapsed": false,
    "pycharm": {
     "name": "#%%\n"
    }
   }
  },
  {
   "cell_type": "code",
   "execution_count": null,
   "outputs": [],
   "source": [],
   "metadata": {
    "collapsed": false,
    "pycharm": {
     "name": "#%%\n"
    }
   }
  }
 ],
 "metadata": {
  "kernelspec": {
   "display_name": "Python 3",
   "language": "python",
   "name": "python3"
  },
  "language_info": {
   "codemirror_mode": {
    "name": "ipython",
    "version": 2
   },
   "file_extension": ".py",
   "mimetype": "text/x-python",
   "name": "python",
   "nbconvert_exporter": "python",
   "pygments_lexer": "ipython2",
   "version": "2.7.6"
  }
 },
 "nbformat": 4,
 "nbformat_minor": 0
}