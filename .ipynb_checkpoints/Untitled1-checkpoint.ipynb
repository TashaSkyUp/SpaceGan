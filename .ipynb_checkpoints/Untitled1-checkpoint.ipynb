{
 "cells": [
  {
   "cell_type": "code",
   "execution_count": 1,
   "id": "80067e39-b9f9-459e-8209-f154ca8d8269",
   "metadata": {},
   "outputs": [
    {
     "name": "stderr",
     "output_type": "stream",
     "text": [
      "Failed to detect the name of this notebook, you can set it manually with the WANDB_NOTEBOOK_NAME environment variable to enable code saving.\n"
     ]
    },
    {
     "name": "stdout",
     "output_type": "stream",
     "text": [
      "Create sweep with ID: jhix9je1\n",
      "Sweep URL: https://wandb.ai/tashaskyup/uncategorized/sweeps/jhix9je1\n"
     ]
    }
   ],
   "source": [
    "import wandb\n",
    "\n",
    "sweep_config = {\n",
    "  \"name\" : \"my-sweep\",\n",
    "  \"method\" : \"grid\",\n",
    "  \"parameters\" : {\n",
    "    \"g_lr\" : {\n",
    "      \"values\" : [ i*.0000001 for i in range(1,1000,50)]\n",
    "    },\n",
    "    \"d_lr\" : {\n",
    "      \"values\" : [ i*.0000001 for i in range(1,1000,50)]\n",
    "    },\n",
    "    \"batch_size\" :{\n",
    "      \"min\": 8,\n",
    "      \"max\": 128\n",
    "    }\n",
    "  }\n",
    "}\n",
    "\n",
    "sweep_id = wandb.sweep(sweep_config, project = \"nasa_planet_gan\")"
   ]
  },
  {
   "cell_type": "code",
   "execution_count": null,
   "id": "33cd7c42-ae46-42e9-9566-5ffe28c78e91",
   "metadata": {},
   "outputs": [],
   "source": []
  }
 ],
 "metadata": {
  "kernelspec": {
   "display_name": "Python 3 (ipykernel)",
   "language": "python",
   "name": "python3"
  },
  "language_info": {
   "codemirror_mode": {
    "name": "ipython",
    "version": 3
   },
   "file_extension": ".py",
   "mimetype": "text/x-python",
   "name": "python",
   "nbconvert_exporter": "python",
   "pygments_lexer": "ipython3",
   "version": "3.9.13"
  }
 },
 "nbformat": 4,
 "nbformat_minor": 5
}
