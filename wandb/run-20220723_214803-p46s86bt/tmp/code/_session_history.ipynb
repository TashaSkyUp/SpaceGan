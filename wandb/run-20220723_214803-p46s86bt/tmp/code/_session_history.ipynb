{
 "cells": [
  {
   "cell_type": "code",
   "execution_count": 1,
   "id": "19c0ed45",
   "metadata": {},
   "outputs": [],
   "source": [
    "!conda install wandb"
   ]
  },
  {
   "cell_type": "code",
   "execution_count": 2,
   "id": "d4d58439",
   "metadata": {},
   "outputs": [],
   "source": [
    "!conda install wandb"
   ]
  },
  {
   "cell_type": "code",
   "execution_count": 3,
   "id": "9a235a68",
   "metadata": {},
   "outputs": [],
   "source": [
    "!wandb login"
   ]
  },
  {
   "cell_type": "code",
   "execution_count": 4,
   "id": "8305d45f",
   "metadata": {},
   "outputs": [],
   "source": [
    "!pip install wandb"
   ]
  },
  {
   "cell_type": "code",
   "execution_count": 5,
   "id": "caf14b91",
   "metadata": {},
   "outputs": [],
   "source": [
    "!wandb login"
   ]
  },
  {
   "cell_type": "code",
   "execution_count": 6,
   "id": "aa692272",
   "metadata": {},
   "outputs": [],
   "source": [
    "!wandb login 7e9c556f49141cc0ebba197763dc0874a583a237"
   ]
  },
  {
   "cell_type": "code",
   "execution_count": 7,
   "id": "7befd3ae",
   "metadata": {},
   "outputs": [],
   "source": [
    "!wandb login "
   ]
  },
  {
   "cell_type": "code",
   "execution_count": 8,
   "id": "b5f9c89c",
   "metadata": {},
   "outputs": [
    {
     "name": "stdout",
     "output_type": "stream",
     "text": [
      "<wandb.sdk.wandb_run.Run at 0x28fe840c2e0>"
     ]
    },
    {
     "data": {
      "text/html": [
       "Tracking run with wandb version 0.12.21"
      ],
      "text/plain": [
       "<IPython.core.display.HTML object>"
      ]
     },
     "metadata": {},
     "output_type": "display_data"
    },
    {
     "data": {
      "text/html": [
       "Run data is saved locally in <code>C:\\Users\\Tasha\\Desktop\\Jupyter-GPU\\data\\nasa_planet_gan\\wandb\\run-20220723_214803-p46s86bt</code>"
      ],
      "text/plain": [
       "<IPython.core.display.HTML object>"
      ]
     },
     "metadata": {},
     "output_type": "display_data"
    },
    {
     "data": {
      "text/html": [
       "Syncing run <strong><a href=\"https://wandb.ai/tashaskyup/GAN1/runs/p46s86bt\" target=\"_blank\">prime-elevator-1</a></strong> to <a href=\"https://wandb.ai/tashaskyup/GAN1\" target=\"_blank\">Weights & Biases</a> (<a href=\"https://wandb.me/run\" target=\"_blank\">docs</a>)<br/>"
      ],
      "text/plain": [
       "<IPython.core.display.HTML object>"
      ]
     },
     "metadata": {},
     "output_type": "display_data"
    }
   ],
   "source": [
    "!wandb login \n",
    "import wandb\n",
    "from wandb.keras import WandbCallback\n",
    "wandb.init(project=\"GAN1\")"
   ]
  },
  {
   "cell_type": "code",
   "execution_count": 9,
   "id": "dfe728ad",
   "metadata": {},
   "outputs": [],
   "source": [
    "!wandb login \n",
    "import wandb\n",
    "from wandb.keras import WandbCallback\n",
    "run = wandb.init(project=\"GAN1\")"
   ]
  }
 ],
 "metadata": {
  "kernelspec": {
   "display_name": "Python 3",
   "language": "python",
   "name": "python3"
  },
  "language_info": {
   "codemirror_mode": {
    "name": "ipython",
    "version": 3
   },
   "file_extension": ".py",
   "mimetype": "text/x-python",
   "name": "python",
   "nbconvert_exporter": "python",
   "pygments_lexer": "ipython3",
   "version": "3.9.13"
  }
 },
 "nbformat": 4,
 "nbformat_minor": 5
}
