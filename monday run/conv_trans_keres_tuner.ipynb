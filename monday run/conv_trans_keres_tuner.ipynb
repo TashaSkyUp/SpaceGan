{
 "cells": [
  {
   "cell_type": "code",
   "execution_count": 1,
   "id": "f60a93e2-0890-4fd1-9b4d-87b1e1080d18",
   "metadata": {
    "tags": []
   },
   "outputs": [],
   "source": [
    "!pip install --upgrade jupyter_client\n",
    "!pip install keras_tuner\n",
    "from loadfunctions import *\n",
    "from PIL import Image\n",
    "import os, sys, glob\n",
    "import fnmatch\n",
    "import numpy as np\n",
    "import tensorflow as tf\n",
    "import random\n",
    "import keras_tuner as kt\n",
    "from IPython.display import clear_output\n",
    "\n",
    "a=1"
   ]
  },
  {
   "cell_type": "code",
   "execution_count": 1,
   "id": "4c03d177-ed2e-4428-a560-3faa2474abdc",
   "metadata": {
    "collapsed": true,
    "jupyter": {
     "outputs_hidden": true,
     "source_hidden": true
    },
    "tags": []
   },
   "outputs": [
    {
     "name": "stdout",
     "output_type": "stream",
     "text": [
      "Requirement already satisfied: jupyter_client in /opt/conda/lib/python3.9/site-packages (7.3.4)\n",
      "Requirement already satisfied: traitlets in /opt/conda/lib/python3.9/site-packages (from jupyter_client) (5.1.1)\n",
      "Requirement already satisfied: entrypoints in /opt/conda/lib/python3.9/site-packages (from jupyter_client) (0.3)\n",
      "Requirement already satisfied: python-dateutil>=2.8.2 in /opt/conda/lib/python3.9/site-packages (from jupyter_client) (2.8.2)\n",
      "Requirement already satisfied: pyzmq>=23.0 in /opt/conda/lib/python3.9/site-packages (from jupyter_client) (23.1.0)\n",
      "Requirement already satisfied: nest-asyncio>=1.5.4 in /opt/conda/lib/python3.9/site-packages (from jupyter_client) (1.5.4)\n",
      "Requirement already satisfied: tornado>=6.0 in /opt/conda/lib/python3.9/site-packages (from jupyter_client) (6.1)\n",
      "Requirement already satisfied: jupyter-core>=4.9.2 in /opt/conda/lib/python3.9/site-packages (from jupyter_client) (4.10.0)\n",
      "Requirement already satisfied: six>=1.5 in /opt/conda/lib/python3.9/site-packages (from python-dateutil>=2.8.2->jupyter_client) (1.15.0)\n",
      "Requirement already satisfied: keras_tuner in /opt/conda/lib/python3.9/site-packages (1.1.2)\n",
      "Requirement already satisfied: tensorboard in /opt/conda/lib/python3.9/site-packages (from keras_tuner) (2.6.0)\n",
      "Requirement already satisfied: ipython in /opt/conda/lib/python3.9/site-packages (from keras_tuner) (8.0.1)\n",
      "Requirement already satisfied: numpy in /opt/conda/lib/python3.9/site-packages (from keras_tuner) (1.19.5)\n",
      "Requirement already satisfied: packaging in /opt/conda/lib/python3.9/site-packages (from keras_tuner) (21.3)\n",
      "Requirement already satisfied: kt-legacy in /opt/conda/lib/python3.9/site-packages (from keras_tuner) (1.0.4)\n",
      "Requirement already satisfied: requests in /opt/conda/lib/python3.9/site-packages (from keras_tuner) (2.27.1)\n",
      "Requirement already satisfied: pexpect>4.3 in /opt/conda/lib/python3.9/site-packages (from ipython->keras_tuner) (4.8.0)\n",
      "Requirement already satisfied: traitlets>=5 in /opt/conda/lib/python3.9/site-packages (from ipython->keras_tuner) (5.1.1)\n",
      "Requirement already satisfied: backcall in /opt/conda/lib/python3.9/site-packages (from ipython->keras_tuner) (0.2.0)\n",
      "Requirement already satisfied: jedi>=0.16 in /opt/conda/lib/python3.9/site-packages (from ipython->keras_tuner) (0.18.1)\n",
      "Requirement already satisfied: pickleshare in /opt/conda/lib/python3.9/site-packages (from ipython->keras_tuner) (0.7.5)\n",
      "Requirement already satisfied: stack-data in /opt/conda/lib/python3.9/site-packages (from ipython->keras_tuner) (0.1.4)\n",
      "Requirement already satisfied: black in /opt/conda/lib/python3.9/site-packages (from ipython->keras_tuner) (21.12b0)\n",
      "Requirement already satisfied: decorator in /opt/conda/lib/python3.9/site-packages (from ipython->keras_tuner) (5.1.1)\n",
      "Requirement already satisfied: matplotlib-inline in /opt/conda/lib/python3.9/site-packages (from ipython->keras_tuner) (0.1.3)\n",
      "Requirement already satisfied: setuptools>=18.5 in /opt/conda/lib/python3.9/site-packages (from ipython->keras_tuner) (59.8.0)\n",
      "Requirement already satisfied: prompt-toolkit!=3.0.0,!=3.0.1,<3.1.0,>=2.0.0 in /opt/conda/lib/python3.9/site-packages (from ipython->keras_tuner) (3.0.26)\n",
      "Requirement already satisfied: pygments in /opt/conda/lib/python3.9/site-packages (from ipython->keras_tuner) (2.11.2)\n",
      "Requirement already satisfied: pyparsing!=3.0.5,>=2.0.2 in /opt/conda/lib/python3.9/site-packages (from packaging->keras_tuner) (3.0.7)\n",
      "Requirement already satisfied: idna<4,>=2.5 in /opt/conda/lib/python3.9/site-packages (from requests->keras_tuner) (3.3)\n",
      "Requirement already satisfied: charset-normalizer~=2.0.0 in /opt/conda/lib/python3.9/site-packages (from requests->keras_tuner) (2.0.10)\n",
      "Requirement already satisfied: urllib3<1.27,>=1.21.1 in /opt/conda/lib/python3.9/site-packages (from requests->keras_tuner) (1.26.8)\n",
      "Requirement already satisfied: certifi>=2017.4.17 in /opt/conda/lib/python3.9/site-packages (from requests->keras_tuner) (2021.10.8)\n",
      "Requirement already satisfied: wheel>=0.26 in /opt/conda/lib/python3.9/site-packages (from tensorboard->keras_tuner) (0.37.1)\n",
      "Requirement already satisfied: werkzeug>=0.11.15 in /opt/conda/lib/python3.9/site-packages (from tensorboard->keras_tuner) (2.0.2)\n",
      "Requirement already satisfied: markdown>=2.6.8 in /opt/conda/lib/python3.9/site-packages (from tensorboard->keras_tuner) (3.3.6)\n",
      "Requirement already satisfied: google-auth<2,>=1.6.3 in /opt/conda/lib/python3.9/site-packages (from tensorboard->keras_tuner) (1.35.0)\n",
      "Requirement already satisfied: protobuf>=3.6.0 in /opt/conda/lib/python3.9/site-packages (from tensorboard->keras_tuner) (3.19.3)\n",
      "Requirement already satisfied: tensorboard-plugin-wit>=1.6.0 in /opt/conda/lib/python3.9/site-packages (from tensorboard->keras_tuner) (1.8.1)\n",
      "Requirement already satisfied: google-auth-oauthlib<0.5,>=0.4.1 in /opt/conda/lib/python3.9/site-packages (from tensorboard->keras_tuner) (0.4.6)\n",
      "Requirement already satisfied: absl-py>=0.4 in /opt/conda/lib/python3.9/site-packages (from tensorboard->keras_tuner) (0.15.0)\n",
      "Requirement already satisfied: tensorboard-data-server<0.7.0,>=0.6.0 in /opt/conda/lib/python3.9/site-packages (from tensorboard->keras_tuner) (0.6.1)\n",
      "Requirement already satisfied: grpcio>=1.24.3 in /opt/conda/lib/python3.9/site-packages (from tensorboard->keras_tuner) (1.43.0)\n",
      "Requirement already satisfied: six in /opt/conda/lib/python3.9/site-packages (from absl-py>=0.4->tensorboard->keras_tuner) (1.15.0)\n",
      "Requirement already satisfied: pyasn1-modules>=0.2.1 in /opt/conda/lib/python3.9/site-packages (from google-auth<2,>=1.6.3->tensorboard->keras_tuner) (0.2.8)\n",
      "Requirement already satisfied: rsa<5,>=3.1.4 in /opt/conda/lib/python3.9/site-packages (from google-auth<2,>=1.6.3->tensorboard->keras_tuner) (4.8)\n",
      "Requirement already satisfied: cachetools<5.0,>=2.0.0 in /opt/conda/lib/python3.9/site-packages (from google-auth<2,>=1.6.3->tensorboard->keras_tuner) (4.2.4)\n",
      "Requirement already satisfied: requests-oauthlib>=0.7.0 in /opt/conda/lib/python3.9/site-packages (from google-auth-oauthlib<0.5,>=0.4.1->tensorboard->keras_tuner) (1.3.1)\n",
      "Requirement already satisfied: parso<0.9.0,>=0.8.0 in /opt/conda/lib/python3.9/site-packages (from jedi>=0.16->ipython->keras_tuner) (0.8.3)\n",
      "Requirement already satisfied: importlib-metadata>=4.4 in /opt/conda/lib/python3.9/site-packages (from markdown>=2.6.8->tensorboard->keras_tuner) (4.10.1)\n",
      "Requirement already satisfied: ptyprocess>=0.5 in /opt/conda/lib/python3.9/site-packages (from pexpect>4.3->ipython->keras_tuner) (0.7.0)\n",
      "Requirement already satisfied: wcwidth in /opt/conda/lib/python3.9/site-packages (from prompt-toolkit!=3.0.0,!=3.0.1,<3.1.0,>=2.0.0->ipython->keras_tuner) (0.2.5)\n",
      "Requirement already satisfied: click>=7.1.2 in /opt/conda/lib/python3.9/site-packages (from black->ipython->keras_tuner) (8.0.3)\n",
      "Requirement already satisfied: tomli<2.0.0,>=0.2.6 in /opt/conda/lib/python3.9/site-packages (from black->ipython->keras_tuner) (1.2.2)\n",
      "Requirement already satisfied: mypy-extensions>=0.4.3 in /opt/conda/lib/python3.9/site-packages (from black->ipython->keras_tuner) (0.4.3)\n",
      "Requirement already satisfied: pathspec<1,>=0.9.0 in /opt/conda/lib/python3.9/site-packages (from black->ipython->keras_tuner) (0.9.0)\n",
      "Requirement already satisfied: typing-extensions>=3.10.0.0 in /opt/conda/lib/python3.9/site-packages (from black->ipython->keras_tuner) (4.2.0)\n",
      "Requirement already satisfied: platformdirs>=2 in /opt/conda/lib/python3.9/site-packages (from black->ipython->keras_tuner) (2.3.0)\n",
      "Requirement already satisfied: asttokens in /opt/conda/lib/python3.9/site-packages (from stack-data->ipython->keras_tuner) (2.0.5)\n",
      "Requirement already satisfied: pure-eval in /opt/conda/lib/python3.9/site-packages (from stack-data->ipython->keras_tuner) (0.2.2)\n",
      "Requirement already satisfied: executing in /opt/conda/lib/python3.9/site-packages (from stack-data->ipython->keras_tuner) (0.8.2)\n",
      "Requirement already satisfied: zipp>=0.5 in /opt/conda/lib/python3.9/site-packages (from importlib-metadata>=4.4->markdown>=2.6.8->tensorboard->keras_tuner) (3.7.0)\n",
      "Requirement already satisfied: pyasn1<0.5.0,>=0.4.6 in /opt/conda/lib/python3.9/site-packages (from pyasn1-modules>=0.2.1->google-auth<2,>=1.6.3->tensorboard->keras_tuner) (0.4.8)\n",
      "Requirement already satisfied: oauthlib>=3.0.0 in /opt/conda/lib/python3.9/site-packages (from requests-oauthlib>=0.7.0->google-auth-oauthlib<0.5,>=0.4.1->tensorboard->keras_tuner) (3.2.0)\n",
      "198\n",
      "99\n",
      "99\n",
      "/home/jovyan/work/nasa_planet_dataset/1019.jpg\n"
     ]
    },
    {
     "data": {
      "image/png": "[encoded data removed]",
      "text/plain": [
       "<PIL.Image.Image image mode=RGB size=128x96 at 0x7FCABA219EE0>"
      ]
     },
     "metadata": {},
     "output_type": "display_data"
    },
    {
     "name": "stdout",
     "output_type": "stream",
     "text": [
      "(594, 96, 128, 3)\n",
      "(96, 128, 3)\n"
     ]
    },
    {
     "data": {
      "image/png": "[encoded data removed]",
      "text/plain": [
       "<PIL.Image.Image image mode=RGB size=128x96 at 0x7FCABA219EE0>"
      ]
     },
     "metadata": {},
     "output_type": "display_data"
    },
    {
     "name": "stdout",
     "output_type": "stream",
     "text": [
      "(535, 96, 128, 3) (59, 96, 128, 3)\n"
     ]
    }
   ],
   "source": [
    "input_width = 128\n",
    "input_height = int(input_width*.75)\n",
    "input_channels = 3\n",
    "\n",
    "all_images,src_images,resized_images= get_image_lists()   \n",
    "print(len(all_images))\n",
    "print(len(src_images))\n",
    "print(len(resized_images))\n",
    "print(src_images[0])\n",
    "np_images_list = resize(src_images,input_width,int(input_width*.75))\n",
    "\n",
    "\n",
    "np_images_list[0].shape\n",
    "tf.keras.preprocessing.image.array_to_img(np_images_list[0]).show()\n",
    "\n",
    "\n",
    "np_images = np.array(np_images_list,dtype='float16',ndmin=(4))\n",
    "np_images = easy_training_aug(np_images)\n",
    "np.random.shuffle( np_images)\n",
    "print(np_images.shape)\n",
    "print(np_images[0].shape)\n",
    "tf.keras.preprocessing.image.array_to_img(np_images[0]).show()\n",
    "\n",
    "test_num = int(len(np_images)*.1)\n",
    "X = np_images[0:-test_num]\n",
    "X_test = np_images[-test_num:]\n",
    "\n",
    "print(X.shape,X_test.shape)\n",
    "\n",
    "def my_conv2dtrans(in_size,out_size,filters=64):\n",
    "    ## if Padding == Valid;\n",
    "    ## HO = (HI-1) * stride + HF\n",
    "    ## stride = (HO-HF)/(HI-1) \n",
    "    ## HF = -(HI)(stride)+(stride)+HO\n",
    "    ## 2c =  -Bc+c+D\n",
    "    ## a/c = (-bc+c+d)/c\n",
    "    ## a/c = (-bc+c+d)/c\n",
    "    ##c = D/(B+1)\n",
    "    ##stride = out_size/(input_size +1)\n",
    "    \n",
    "    \n",
    "    stride_size = out_size/(in_size +1)\n",
    "    f_size = stride_size*2\n",
    "    print (stride_size,f_size)\n",
    "    stride_size=round(stride_size)\n",
    "    f_size=round(f_size)\n",
    "    print (stride_size,f_size)\n",
    "    \n",
    "    \n",
    "    return tf.keras.layers.Conv2DTranspose(filters,f_size,stride_size)\n",
    "    "
   ]
  },
  {
   "cell_type": "code",
   "execution_count": 6,
   "id": "86666f81-97ab-4a24-93ae-f3fb2d1f53e0",
   "metadata": {
    "collapsed": true,
    "jupyter": {
     "outputs_hidden": true
    },
    "tags": []
   },
   "outputs": [
    {
     "ename": "IndexError",
     "evalue": "list index out of range",
     "output_type": "error",
     "traceback": [
      "\u001b[0;31m---------------------------------------------------------------------------\u001b[0m",
      "\u001b[0;31mIndexError\u001b[0m                                Traceback (most recent call last)",
      "Input \u001b[0;32mIn [6]\u001b[0m, in \u001b[0;36m<module>\u001b[0;34m\u001b[0m\n\u001b[1;32m     72\u001b[0m     \u001b[38;5;28mprint\u001b[39m(trans\u001b[38;5;241m.\u001b[39msummary())\n\u001b[1;32m     73\u001b[0m     \u001b[38;5;28;01mreturn\u001b[39;00m trans\n\u001b[0;32m---> 75\u001b[0m tuner \u001b[38;5;241m=\u001b[39m \u001b[43mkt\u001b[49m\u001b[38;5;241;43m.\u001b[39;49m\u001b[43mHyperband\u001b[49m\u001b[43m(\u001b[49m\u001b[43mget_trans\u001b[49m\u001b[43m,\u001b[49m\n\u001b[1;32m     76\u001b[0m \u001b[43m                     \u001b[49m\u001b[43mobjective\u001b[49m\u001b[38;5;241;43m=\u001b[39;49m\u001b[38;5;124;43m'\u001b[39;49m\u001b[38;5;124;43mMSE\u001b[39;49m\u001b[38;5;124;43m'\u001b[39;49m\u001b[43m,\u001b[49m\n\u001b[1;32m     77\u001b[0m \u001b[43m                     \u001b[49m\u001b[43mmax_epochs\u001b[49m\u001b[38;5;241;43m=\u001b[39;49m\u001b[38;5;241;43m100\u001b[39;49m\u001b[43m,\u001b[49m\n\u001b[1;32m     78\u001b[0m \u001b[43m                     \u001b[49m\u001b[43mfactor\u001b[49m\u001b[38;5;241;43m=\u001b[39;49m\u001b[38;5;241;43m3\u001b[39;49m\u001b[43m,\u001b[49m\n\u001b[1;32m     79\u001b[0m \u001b[43m                     \u001b[49m\u001b[43mdirectory\u001b[49m\u001b[38;5;241;43m=\u001b[39;49m\u001b[38;5;124;43m'\u001b[39;49m\u001b[38;5;124;43mmy_dir\u001b[39;49m\u001b[38;5;124;43m'\u001b[39;49m\u001b[43m,\u001b[49m\n\u001b[1;32m     80\u001b[0m \u001b[43m                     \u001b[49m\u001b[43mproject_name\u001b[49m\u001b[38;5;241;43m=\u001b[39;49m\u001b[38;5;124;43m'\u001b[39;49m\u001b[38;5;124;43mconv-trans-31\u001b[39;49m\u001b[38;5;124;43m'\u001b[39;49m\u001b[43m)\u001b[49m\n\u001b[1;32m     82\u001b[0m stop_early \u001b[38;5;241m=\u001b[39m tf\u001b[38;5;241m.\u001b[39mkeras\u001b[38;5;241m.\u001b[39mcallbacks\u001b[38;5;241m.\u001b[39mEarlyStopping(monitor\u001b[38;5;241m=\u001b[39m\u001b[38;5;124m'\u001b[39m\u001b[38;5;124mval_loss\u001b[39m\u001b[38;5;124m'\u001b[39m, patience\u001b[38;5;241m=\u001b[39m\u001b[38;5;241m5\u001b[39m)\n",
      "File \u001b[0;32m/opt/conda/lib/python3.9/site-packages/keras_tuner/tuners/hyperband.py:375\u001b[0m, in \u001b[0;36mHyperband.__init__\u001b[0;34m(self, hypermodel, objective, max_epochs, factor, hyperband_iterations, seed, hyperparameters, tune_new_entries, allow_new_entries, **kwargs)\u001b[0m\n\u001b[1;32m    352\u001b[0m \u001b[38;5;28;01mdef\u001b[39;00m \u001b[38;5;21m__init__\u001b[39m(\n\u001b[1;32m    353\u001b[0m     \u001b[38;5;28mself\u001b[39m,\n\u001b[1;32m    354\u001b[0m     hypermodel\u001b[38;5;241m=\u001b[39m\u001b[38;5;28;01mNone\u001b[39;00m,\n\u001b[0;32m   (...)\u001b[0m\n\u001b[1;32m    363\u001b[0m     \u001b[38;5;241m*\u001b[39m\u001b[38;5;241m*\u001b[39mkwargs\n\u001b[1;32m    364\u001b[0m ):\n\u001b[1;32m    365\u001b[0m     oracle \u001b[38;5;241m=\u001b[39m HyperbandOracle(\n\u001b[1;32m    366\u001b[0m         objective,\n\u001b[1;32m    367\u001b[0m         max_epochs\u001b[38;5;241m=\u001b[39mmax_epochs,\n\u001b[0;32m   (...)\u001b[0m\n\u001b[1;32m    373\u001b[0m         allow_new_entries\u001b[38;5;241m=\u001b[39mallow_new_entries,\n\u001b[1;32m    374\u001b[0m     )\n\u001b[0;32m--> 375\u001b[0m     \u001b[38;5;28;43msuper\u001b[39;49m\u001b[43m(\u001b[49m\u001b[43mHyperband\u001b[49m\u001b[43m,\u001b[49m\u001b[43m \u001b[49m\u001b[38;5;28;43mself\u001b[39;49m\u001b[43m)\u001b[49m\u001b[38;5;241;43m.\u001b[39;49m\u001b[38;5;21;43m__init__\u001b[39;49m\u001b[43m(\u001b[49m\n\u001b[1;32m    376\u001b[0m \u001b[43m        \u001b[49m\u001b[43moracle\u001b[49m\u001b[38;5;241;43m=\u001b[39;49m\u001b[43moracle\u001b[49m\u001b[43m,\u001b[49m\u001b[43m \u001b[49m\u001b[43mhypermodel\u001b[49m\u001b[38;5;241;43m=\u001b[39;49m\u001b[43mhypermodel\u001b[49m\u001b[43m,\u001b[49m\u001b[43m \u001b[49m\u001b[38;5;241;43m*\u001b[39;49m\u001b[38;5;241;43m*\u001b[39;49m\u001b[43mkwargs\u001b[49m\n\u001b[1;32m    377\u001b[0m \u001b[43m    \u001b[49m\u001b[43m)\u001b[49m\n",
      "File \u001b[0;32m/opt/conda/lib/python3.9/site-packages/keras_tuner/engine/tuner.py:110\u001b[0m, in \u001b[0;36mTuner.__init__\u001b[0;34m(self, oracle, hypermodel, max_model_size, optimizer, loss, metrics, distribution_strategy, directory, project_name, logger, tuner_id, overwrite, executions_per_trial)\u001b[0m\n\u001b[1;32m    102\u001b[0m \u001b[38;5;28;01mif\u001b[39;00m hypermodel \u001b[38;5;129;01mis\u001b[39;00m \u001b[38;5;28;01mNone\u001b[39;00m \u001b[38;5;129;01mand\u001b[39;00m \u001b[38;5;28mself\u001b[39m\u001b[38;5;241m.\u001b[39m\u001b[38;5;18m__class__\u001b[39m\u001b[38;5;241m.\u001b[39mrun_trial \u001b[38;5;129;01mis\u001b[39;00m Tuner\u001b[38;5;241m.\u001b[39mrun_trial:\n\u001b[1;32m    103\u001b[0m     \u001b[38;5;28;01mraise\u001b[39;00m \u001b[38;5;167;01mValueError\u001b[39;00m(\n\u001b[1;32m    104\u001b[0m         \u001b[38;5;124m\"\u001b[39m\u001b[38;5;124mReceived `hypermodel=None`. We only allow not specifying \u001b[39m\u001b[38;5;124m\"\u001b[39m\n\u001b[1;32m    105\u001b[0m         \u001b[38;5;124m\"\u001b[39m\u001b[38;5;124m`hypermodel` if the user defines the search space in \u001b[39m\u001b[38;5;124m\"\u001b[39m\n\u001b[1;32m    106\u001b[0m         \u001b[38;5;124m\"\u001b[39m\u001b[38;5;124m`Tuner.run_trial()` by subclassing a `Tuner` class without \u001b[39m\u001b[38;5;124m\"\u001b[39m\n\u001b[1;32m    107\u001b[0m         \u001b[38;5;124m\"\u001b[39m\u001b[38;5;124musing a `HyperModel` instance.\u001b[39m\u001b[38;5;124m\"\u001b[39m\n\u001b[1;32m    108\u001b[0m     )\n\u001b[0;32m--> 110\u001b[0m \u001b[38;5;28;43msuper\u001b[39;49m\u001b[43m(\u001b[49m\u001b[43mTuner\u001b[49m\u001b[43m,\u001b[49m\u001b[43m \u001b[49m\u001b[38;5;28;43mself\u001b[39;49m\u001b[43m)\u001b[49m\u001b[38;5;241;43m.\u001b[39;49m\u001b[38;5;21;43m__init__\u001b[39;49m\u001b[43m(\u001b[49m\n\u001b[1;32m    111\u001b[0m \u001b[43m    \u001b[49m\u001b[43moracle\u001b[49m\u001b[38;5;241;43m=\u001b[39;49m\u001b[43moracle\u001b[49m\u001b[43m,\u001b[49m\n\u001b[1;32m    112\u001b[0m \u001b[43m    \u001b[49m\u001b[43mhypermodel\u001b[49m\u001b[38;5;241;43m=\u001b[39;49m\u001b[43mhypermodel\u001b[49m\u001b[43m,\u001b[49m\n\u001b[1;32m    113\u001b[0m \u001b[43m    \u001b[49m\u001b[43mdirectory\u001b[49m\u001b[38;5;241;43m=\u001b[39;49m\u001b[43mdirectory\u001b[49m\u001b[43m,\u001b[49m\n\u001b[1;32m    114\u001b[0m \u001b[43m    \u001b[49m\u001b[43mproject_name\u001b[49m\u001b[38;5;241;43m=\u001b[39;49m\u001b[43mproject_name\u001b[49m\u001b[43m,\u001b[49m\n\u001b[1;32m    115\u001b[0m \u001b[43m    \u001b[49m\u001b[43mlogger\u001b[49m\u001b[38;5;241;43m=\u001b[39;49m\u001b[43mlogger\u001b[49m\u001b[43m,\u001b[49m\n\u001b[1;32m    116\u001b[0m \u001b[43m    \u001b[49m\u001b[43moverwrite\u001b[49m\u001b[38;5;241;43m=\u001b[39;49m\u001b[43moverwrite\u001b[49m\u001b[43m,\u001b[49m\n\u001b[1;32m    117\u001b[0m \u001b[43m\u001b[49m\u001b[43m)\u001b[49m\n\u001b[1;32m    119\u001b[0m \u001b[38;5;28mself\u001b[39m\u001b[38;5;241m.\u001b[39mmax_model_size \u001b[38;5;241m=\u001b[39m max_model_size\n\u001b[1;32m    120\u001b[0m \u001b[38;5;28mself\u001b[39m\u001b[38;5;241m.\u001b[39moptimizer \u001b[38;5;241m=\u001b[39m optimizer\n",
      "File \u001b[0;32m/opt/conda/lib/python3.9/site-packages/keras_tuner/engine/base_tuner.py:103\u001b[0m, in \u001b[0;36mBaseTuner.__init__\u001b[0;34m(self, oracle, hypermodel, directory, project_name, logger, overwrite)\u001b[0m\n\u001b[1;32m    100\u001b[0m \u001b[38;5;28mself\u001b[39m\u001b[38;5;241m.\u001b[39mlogger \u001b[38;5;241m=\u001b[39m logger\n\u001b[1;32m    101\u001b[0m \u001b[38;5;28mself\u001b[39m\u001b[38;5;241m.\u001b[39m_display \u001b[38;5;241m=\u001b[39m tuner_utils\u001b[38;5;241m.\u001b[39mDisplay(oracle\u001b[38;5;241m=\u001b[39m\u001b[38;5;28mself\u001b[39m\u001b[38;5;241m.\u001b[39moracle)\n\u001b[0;32m--> 103\u001b[0m \u001b[38;5;28;43mself\u001b[39;49m\u001b[38;5;241;43m.\u001b[39;49m\u001b[43m_populate_initial_space\u001b[49m\u001b[43m(\u001b[49m\u001b[43m)\u001b[49m\n\u001b[1;32m    105\u001b[0m \u001b[38;5;28;01mif\u001b[39;00m \u001b[38;5;129;01mnot\u001b[39;00m overwrite \u001b[38;5;129;01mand\u001b[39;00m tf\u001b[38;5;241m.\u001b[39mio\u001b[38;5;241m.\u001b[39mgfile\u001b[38;5;241m.\u001b[39mexists(\u001b[38;5;28mself\u001b[39m\u001b[38;5;241m.\u001b[39m_get_tuner_fname()):\n\u001b[1;32m    106\u001b[0m     tf\u001b[38;5;241m.\u001b[39mget_logger()\u001b[38;5;241m.\u001b[39minfo(\n\u001b[1;32m    107\u001b[0m         \u001b[38;5;124m\"\u001b[39m\u001b[38;5;124mReloading Tuner from \u001b[39m\u001b[38;5;132;01m{}\u001b[39;00m\u001b[38;5;124m\"\u001b[39m\u001b[38;5;241m.\u001b[39mformat(\u001b[38;5;28mself\u001b[39m\u001b[38;5;241m.\u001b[39m_get_tuner_fname())\n\u001b[1;32m    108\u001b[0m     )\n",
      "File \u001b[0;32m/opt/conda/lib/python3.9/site-packages/keras_tuner/engine/base_tuner.py:132\u001b[0m, in \u001b[0;36mBaseTuner._populate_initial_space\u001b[0;34m(self)\u001b[0m\n\u001b[1;32m    129\u001b[0m scopes_once_active \u001b[38;5;241m=\u001b[39m []\n\u001b[1;32m    131\u001b[0m \u001b[38;5;28;01mwhile\u001b[39;00m \u001b[38;5;28;01mTrue\u001b[39;00m:\n\u001b[0;32m--> 132\u001b[0m     \u001b[38;5;28;43mself\u001b[39;49m\u001b[38;5;241;43m.\u001b[39;49m\u001b[43mhypermodel\u001b[49m\u001b[38;5;241;43m.\u001b[39;49m\u001b[43mbuild\u001b[49m\u001b[43m(\u001b[49m\u001b[43mhp\u001b[49m\u001b[43m)\u001b[49m\n\u001b[1;32m    134\u001b[0m     \u001b[38;5;66;03m# Update the recored scopes.\u001b[39;00m\n\u001b[1;32m    135\u001b[0m     \u001b[38;5;28;01mfor\u001b[39;00m conditions \u001b[38;5;129;01min\u001b[39;00m hp\u001b[38;5;241m.\u001b[39mactive_scopes:\n",
      "Input \u001b[0;32mIn [6]\u001b[0m, in \u001b[0;36mget_trans\u001b[0;34m(hp)\u001b[0m\n\u001b[1;32m     25\u001b[0m \u001b[38;5;66;03m###########                                        \u001b[39;00m\n\u001b[1;32m     26\u001b[0m     \u001b[38;5;28;01mif\u001b[39;00m \u001b[38;5;28mlen\u001b[39m(trans\u001b[38;5;241m.\u001b[39mlayers) \u001b[38;5;241m>\u001b[39m\u001b[38;5;241m=\u001b[39m \u001b[38;5;241m0\u001b[39m:\u001b[38;5;66;03m# if not first layer\u001b[39;00m\n\u001b[0;32m---> 27\u001b[0m         last_layer_out_shape \u001b[38;5;241m=\u001b[39m \u001b[43mtrans\u001b[49m\u001b[38;5;241;43m.\u001b[39;49m\u001b[43mlayers\u001b[49m\u001b[43m[\u001b[49m\u001b[38;5;241;43m-\u001b[39;49m\u001b[38;5;241;43m1\u001b[39;49m\u001b[43m]\u001b[49m\u001b[38;5;241m.\u001b[39moutput\u001b[38;5;241m.\u001b[39mshape\u001b[38;5;241m.\u001b[39mas_list()        \n\u001b[1;32m     28\u001b[0m         \u001b[38;5;28;01mif\u001b[39;00m \u001b[38;5;28mlen\u001b[39m(last_layer_out_shape) \u001b[38;5;241m!=\u001b[39m \u001b[38;5;241m2\u001b[39m: \u001b[38;5;66;03m# if previous layer was img\u001b[39;00m\n\u001b[1;32m     29\u001b[0m             trans\u001b[38;5;241m.\u001b[39madd(tf\u001b[38;5;241m.\u001b[39mkeras\u001b[38;5;241m.\u001b[39mlayers\u001b[38;5;241m.\u001b[39mFlatten())                          \n",
      "\u001b[0;31mIndexError\u001b[0m: list index out of range"
     ]
    }
   ],
   "source": [
    "def get_trans(hp):\n",
    "    f=8\n",
    "\n",
    "    trans = tf.keras.Sequential()\n",
    "    trans.add(tf.keras.layers.Input((input_height,input_width,input_channels)))\n",
    "    \n",
    "    if hp.Boolean(\"Dense1\"):       \n",
    "        if len(trans.layers) > 0:# if not first layer\n",
    "            last_layer_out_shape = trans.layers[-1].output.shape.as_list()        \n",
    "            if len(last_layer_out_shape) != 2: # if previous layer was img\n",
    "                trans.add(tf.keras.layers.Flatten())                          \n",
    "        else: #first layer\n",
    "            trans.add(tf.keras.layers.Flatten())                  \n",
    "        trans.add(tf.keras.layers.Dense(hp.Int(\"d1u\",min_value=8,max_value=256,step=8)))\n",
    "                \n",
    "        \n",
    "\n",
    "    if hp.Boolean(\"ReConv1\"):\n",
    "        if len(trans.layers) > 0:\n",
    "            last_layer_out_shape = trans.layers[-1].output.shape.as_list()\n",
    "            if len(last_layer_out_shape) == 2:\n",
    "                trans.add(tf.keras.layers.Reshape((-1,8,3)))        \n",
    "        trans.add(tf.keras.layers.Resizing(8,8,interpolation='lanczos5'))\n",
    "        trans.add(tf.keras.layers.Conv2D(32,4,1))\n",
    "###########                                        \n",
    "    if len(trans.layers) > 0:# if not first layer\n",
    "        last_layer_out_shape = trans.layers[-1].output.shape.as_list()        \n",
    "        if len(last_layer_out_shape) != 2: # if previous layer was img\n",
    "            trans.add(tf.keras.layers.Flatten())                          \n",
    "        else: #first layer\n",
    "            trans.add(tf.keras.layers.Flatten())      \n",
    "            \n",
    "    trans.add(tf.keras.layers.Dense(8,name=\"latent\"))\n",
    "######                  \n",
    "    if hp.Boolean(\"Dense2\"):       \n",
    "        if len(trans.layers) > 0:# if not first layer\n",
    "            last_layer_out_shape = trans.layers[-1].output.shape.as_list()        \n",
    "            if len(last_layer_out_shape) != 2: # if previous layer was img\n",
    "                trans.add(tf.keras.layers.Flatten())                          \n",
    "        else: #first layer\n",
    "            trans.add(tf.keras.layers.Flatten())                  \n",
    "        trans.add(tf.keras.layers.Dense(hp.Int(\"d2u\",min_value=8,max_value=256,step=8)))\n",
    "\n",
    "    if hp.Boolean(\"ReConvTrans\"):\n",
    "        if len(trans.layers) > 0:\n",
    "            last_layer_out_shape = trans.layers[-1].output.shape.as_list()\n",
    "            if len(last_layer_out_shape) == 2:\n",
    "                trans.add(tf.keras.layers.Reshape((-1,8,3)))        \n",
    "        trans.add(tf.keras.layers.Resizing(8,8,interpolation='lanczos5'))\n",
    "        trans.add(tf.keras.layers.Conv2DTranspose(32,4,2))\n",
    "    \n",
    "\n",
    "    #trans.add(tf.keras.layers.Reshape( (-1) ))\n",
    "    \n",
    "    if len(trans.layers) > 0:# if not first layer\n",
    "            last_layer_out_shape = trans.layers[-1].output.shape.as_list()        \n",
    "            if len(last_layer_out_shape) != 2: # if previous layer was img\n",
    "                trans.add(tf.keras.layers.Flatten())                          \n",
    "            else: #first layer\n",
    "                trans.add(tf.keras.layers.Flatten())                      \n",
    "            \n",
    "    trans.add(tf.keras.layers.Dense( (input_height*input_width*input_channels) ))\n",
    " \n",
    "    #trans.add(tf.keras.layers.Resizing(input_height,input_width,interpolation='lanczos5'))    \n",
    "    ## Padding==Valid H = (HI-1) * stride + HF\n",
    "    #trans.add(tf.keras.layers.Reshape((input_height,input_width,input_channels)))\n",
    "              \n",
    "    trans.compile(optimizer=tf.keras.optimizers.Adam(learning_rate=.0001),\n",
    "                  loss = tf.keras.losses.MSE,\n",
    "                  metrics = ['MSE']\n",
    "                 )\n",
    "    print(trans.summary())\n",
    "    return trans\n",
    "\n",
    "tuner = kt.Hyperband(get_trans,\n",
    "                     objective='MSE',\n",
    "                     max_epochs=100,\n",
    "                     factor=3,\n",
    "                     directory='my_dir',\n",
    "                     project_name='conv-trans-31')\n",
    "\n",
    "stop_early = tf.keras.callbacks.EarlyStopping(monitor='val_loss', patience=5)\n",
    "\n",
    "#fc_trans = get_trans()\n",
    "#out = fc_trans(np_images)\n",
    "#fc_trans.summary()\n",
    "#print(np_images[0].shape)"
   ]
  },
  {
   "cell_type": "code",
   "execution_count": null,
   "id": "df1c92d4-02f9-485c-9a18-dd38942fcbbf",
   "metadata": {
    "tags": []
   },
   "outputs": [],
   "source": [
    "\n",
    "tuner.search(np_images,\n",
    "             np_images,\n",
    "             validation_data=(X_test,X_test),\n",
    "             validation_steps=1,\n",
    "             epochs=100,\n",
    "             batch_size=250,\n",
    "             verbose=1,\n",
    "             callbacks=[stop_early])\n",
    "             "
   ]
  },
  {
   "cell_type": "code",
   "execution_count": null,
   "id": "968a7563-8ad2-472e-ab8e-62a513b49b3c",
   "metadata": {},
   "outputs": [],
   "source": []
  },
  {
   "cell_type": "code",
   "execution_count": null,
   "id": "ca7bbab2-a469-4733-987d-ae15473604af",
   "metadata": {},
   "outputs": [],
   "source": []
  },
  {
   "cell_type": "code",
   "execution_count": null,
   "id": "4756b86a-1859-45b4-9fc2-5fc47afa9e44",
   "metadata": {},
   "outputs": [],
   "source": []
  }
 ],
 "metadata": {
  "kernelspec": {
   "display_name": "Python 3 (ipykernel)",
   "language": "python",
   "name": "python3"
  },
  "language_info": {
   "codemirror_mode": {
    "name": "ipython",
    "version": 3
   },
   "file_extension": ".py",
   "mimetype": "text/x-python",
   "name": "python",
   "nbconvert_exporter": "python",
   "pygments_lexer": "ipython3",
   "version": "3.9.7"
  }
 },
 "nbformat": 4,
 "nbformat_minor": 5
}
