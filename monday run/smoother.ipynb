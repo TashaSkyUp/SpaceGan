{
 "cells": [
  {
   "cell_type": "code",
   "execution_count": 1,
   "id": "7febe62f-dc7a-4308-b45a-d486afb93c80",
   "metadata": {},
   "outputs": [],
   "source": [
    "import tensorflow as tf\n",
    "import numpy as np\n",
    "import matplotlib.pyplot as plt"
   ]
  },
  {
   "cell_type": "code",
   "execution_count": 21,
   "id": "6ede2bb6-f3c7-4074-9a50-441609c0d0cb",
   "metadata": {},
   "outputs": [
    {
     "name": "stdout",
     "output_type": "stream",
     "text": [
      "pre-iter: [10 10  5  2  1  5 10 10]\n",
      "iter: [8.33333333 8.33333333 5.66666667 2.66666667 2.66666667 5.33333333\n",
      " 8.33333333 8.33333333]\n",
      "iter: [7.44444444 7.44444444 5.55555556 3.66666667 3.55555556 5.44444444\n",
      " 7.33333333 7.33333333]\n",
      "iter: [6.81481481 6.81481481 5.55555556 4.25925926 4.22222222 5.44444444\n",
      " 6.7037037  6.7037037 ]\n",
      "iter: [6.39506173 6.39506173 5.54320988 4.67901235 4.64197531 5.45679012\n",
      " 6.28395062 6.28395062]\n",
      "[6.39506173 5.54320988 4.67901235 4.64197531 5.45679012 6.28395062]\n",
      "[1.75308642 0.90123457 0.03703704 0.         0.81481481 1.64197531]\n",
      "[1.         0.51408451 0.02112676 0.         0.46478873 0.93661972]\n",
      "[9.         4.62676056 0.19014085 0.         4.18309859 8.42957746]\n",
      "[10.          5.62676056  1.19014085  1.          5.18309859  9.42957746]\n",
      "[10.09507042  5.72183099  1.28521127  1.09507042  5.27816901  9.52464789]\n"
     ]
    }
   ],
   "source": [
    "def rolling_window(a, window):\n",
    "    shape = a.shape[:-1] + (a.shape[-1] - window + 1, window)\n",
    "    strides = a.strides + (a.strides[-1],)\n",
    "    return np.lib.stride_tricks.as_strided(a, shape=shape, strides=strides)\n",
    "\n",
    "\n",
    "def get_delta(array):\n",
    "    ar1 = np.insert(array,[0],np.array(0))\n",
    "    ar2 = np.append(array,np.array(0))\n",
    "    ar3 = (ar2-ar1)[:-1]\n",
    "    #print(ar1,ar2,ar3)\n",
    "    return ar3\n",
    "\n",
    "def smoothgrad(array):\n",
    "    array= np.append(array,array[-1])\n",
    "    array= np.insert(array,[0],array[0])\n",
    "    \n",
    "    cnv = np.array([1,1,1])\n",
    "    cnv_s = 3\n",
    "    array_grad = np.gradient(array)\n",
    "    print(array_grad)\n",
    "    ar3= get_delta(array)\n",
    "    \n",
    "    \n",
    "    smooth_grad = np.convolve(ar3,\n",
    "                      cnv/cnv_s,\n",
    "                      mode='valid')\n",
    "    print(smooth_grad)\n",
    "    out = np.zeros(len(array))\n",
    "    print (out,ar3)\n",
    "    for i,g in enumerate(smooth_grad):\n",
    "        if i >=1:\n",
    "            out[i] = out[i-1]+g\n",
    "            print(g,out[i])\n",
    "    out = out+smooth_grad\n",
    "\n",
    "    out_min = out.min()\n",
    "    if out_min < 0:\n",
    "        #print(\"neg min\")\n",
    "        out = out- out_min\n",
    "        out_min = out.min()\n",
    "        \n",
    "    arr_max = array.max()\n",
    "    out_max = out.max()    \n",
    "    arr_min = array.min()\n",
    "    arr_range = arr_max - arr_min\n",
    "    out_range = out_max - out_min\n",
    "    print(out)\n",
    "    out = out - out_min\n",
    "    print(out)\n",
    "    out = out / out_range\n",
    "    print(out)\n",
    "    out = out * arr_range\n",
    "    print(out)\n",
    "    out = out + arr_min\n",
    "    print(out)    \n",
    "    \n",
    "    return out\n",
    "\n",
    "def smooth1d(array,iterations=4):\n",
    "    cnv = np.array([1,1,1])\n",
    "    cnv_s = sum(cnv)\n",
    "    \n",
    "    out = np.append(array,array[-1])\n",
    "    out= np.insert(out,[0],out[0])    \n",
    "    \n",
    "    \n",
    "    print(f\"pre-iter: {out}\")\n",
    "    for itr in range(iterations):\n",
    "        out = np.convolve(out,\n",
    "                          cnv/cnv_s,\n",
    "                          mode='valid')\n",
    "        out= np.append(out,out[-1])\n",
    "        out= np.insert(out,[0],out[0])\n",
    "        print(f\"iter: {out}\")\n",
    "\n",
    "\n",
    "    out =out[1:-1]\n",
    "    \n",
    "    out_min = out.min()\n",
    "    if out_min < 0:\n",
    "        #print(\"neg min\")\n",
    "        out = out- out_min\n",
    "        out_min = out.min()\n",
    "        \n",
    "    arr_max = array.max()\n",
    "    out_max = out.max()    \n",
    "    arr_min = array.min()\n",
    "    arr_range = arr_max - arr_min\n",
    "    out_range = out_max - out_min\n",
    "    \n",
    "    \n",
    "    print(out)\n",
    "    out = out - out_min\n",
    "    print(out)\n",
    "    out = out / out_range\n",
    "    print(out)\n",
    "    out = out * arr_range\n",
    "    print(out)\n",
    "    out = out + arr_min\n",
    "    print(out)    \n",
    "    missing = (array.sum()-out.sum())/len(out)\n",
    "    out=out+missing\n",
    "    print(out)    \n",
    "    \n",
    "    return out\n",
    "a = np.array([10,5,1,6,7,10])\n",
    "a = np.array([10,5,2,1,5,10])\n",
    "    \n",
    "#b=smoothgrad(a)\n",
    "b=smooth1d(a)"
   ]
  },
  {
   "cell_type": "code",
   "execution_count": 50,
   "id": "2e1e6075-a4de-4928-b745-4389acc57a07",
   "metadata": {},
   "outputs": [
    {
     "name": "stdout",
     "output_type": "stream",
     "text": [
      "[0, 2, 4, 6, 8, 10, 1, 3, 5, 7, 9, 11]\n",
      "[10.          5.          2.          1.          5.         10.\n",
      " 10.09507042  5.72183099  1.28521127  1.09507042  5.27816901  9.52464789]\n",
      "['red', 'red', 'red', 'red', 'red', 'red', 'green', 'green', 'green', 'green', 'green', 'green']\n"
     ]
    },
    {
     "data": {
      "application/vnd.jupyter.widget-view+json": {
       "model_id": "19f2fbcd53ce4ad7afb2e3616ecdf927",
       "version_major": 2,
       "version_minor": 0
      },
      "image/png": "[encoded data removed]",
      "text/html": [
       "\n",
       "            <div style=\"display: inline-block;\">\n",
       "                <div class=\"jupyter-widgets widget-label\" style=\"text-align: center;\">\n",
       "                    Figure\n",
       "                </div>\n",
       "                <img src='data:image/png;base64,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' width=640.0/>\n",
       "            </div>\n",
       "        "
      ],
      "text/plain": [
       "Canvas(toolbar=Toolbar(toolitems=[('Home', 'Reset original view', 'home', 'home'), ('Back', 'Back to previous …"
      ]
     },
     "metadata": {},
     "output_type": "display_data"
    },
    {
     "name": "stdout",
     "output_type": "stream",
     "text": [
      "33.0 5.5\n"
     ]
    }
   ],
   "source": [
    "#%matplotlib widget\n",
    "#plt.bar(x=range(len(a)),height=a)\n",
    "#print(sum(a),a.mean())\n",
    "\n",
    "\n",
    "%matplotlib widget\n",
    "max_x = len(b)*2\n",
    "ax = list(range(0,max_x,2))\n",
    "bx = list(range(1,max_x,2))\n",
    "colors = [\"red\"]*len(b)+ [\"green\"]*len(b)\n",
    "xx=ax+bx\n",
    "print (xx)\n",
    "hh = np.concatenate([a,b])\n",
    "print(hh)\n",
    "print(colors)\n",
    "plt.bar(x=xx,height=hh,color = colors)\n",
    "plt.show()\n",
    "print(sum(b),b.mean())"
   ]
  },
  {
   "cell_type": "code",
   "execution_count": 18,
   "id": "103ce7c1-28ff-4249-baeb-02ad95d3176b",
   "metadata": {
    "tags": []
   },
   "outputs": [
    {
     "name": "stdout",
     "output_type": "stream",
     "text": [
      "[5000, 500, 100, 500, 5000] 11100\n",
      "[5194, 424, 64, 424, 5194] 11300\n"
     ]
    }
   ],
   "source": [
    "\n",
    "def get_params_list(nodes):    \n",
    "    nodes=nodes.astype(\"int\")    \n",
    "    params=[]\n",
    "    for i,u in enumerate(nodes):\n",
    "        if i > 0 :\n",
    "            first_layer = nodes[i-1]\n",
    "            second_layer = u\n",
    "            params.append(first_layer*second_layer)\n",
    "        \n",
    "    return params\n",
    "\n",
    "\n",
    "pa= get_params_list(a*10)\n",
    "pb = get_params_list(b*10)\n",
    "print (pa,sum(pa))\n",
    "print (pb,sum(pb))"
   ]
  },
  {
   "cell_type": "code",
   "execution_count": null,
   "id": "a583597b-2626-4723-a4ae-7a9325278370",
   "metadata": {},
   "outputs": [],
   "source": []
  },
  {
   "cell_type": "code",
   "execution_count": null,
   "id": "616743f4-c2b3-474d-b65a-019264cfbc21",
   "metadata": {},
   "outputs": [],
   "source": []
  }
 ],
 "metadata": {
  "kernelspec": {
   "display_name": "Python 3 (ipykernel)",
   "language": "python",
   "name": "python3"
  },
  "language_info": {
   "codemirror_mode": {
    "name": "ipython",
    "version": 3
   },
   "file_extension": ".py",
   "mimetype": "text/x-python",
   "name": "python",
   "nbconvert_exporter": "python",
   "pygments_lexer": "ipython3",
   "version": "3.9.7"
  }
 },
 "nbformat": 4,
 "nbformat_minor": 5
}
